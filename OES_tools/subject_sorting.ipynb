{
 "cells": [
  {
   "cell_type": "code",
   "execution_count": 1,
   "metadata": {},
   "outputs": [],
   "source": [
    "import shutil\n",
    "import pandas as pd\n",
    "import os\n",
    "import glob\n",
    "import random \n",
    "\n",
    "def construct_class_dict(csv_path, mode, include_M_3 = True):\n",
    "    \n",
    "    data = pd.read_csv(csv_path)\n",
    "    class_dict = {}\n",
    "    \n",
    "    if mode == 'all':\n",
    "        vals = [1,2,3,5,6]\n",
    "        classes = data['Mandard'].unique()[vals]\n",
    "        print(classes)\n",
    "        \n",
    "        for class_name in classes:\n",
    "            class_dict[class_name] = list(data.query(f\"Mandard=='{class_name}'\")['record_id'])\n",
    "\n",
    "    elif mode == 'bin':\n",
    "        classes = ['True', 'False']\n",
    "\n",
    "        true_query = \"Mandard=='I - No residual cancer' | Mandard=='II - rare residual cancer cells'\"\n",
    "        \n",
    "        if include_M_3 == True:\n",
    "            false_query = \"Mandard=='III - Fibrosis outgrowing residual cancer' | Mandard=='IV - Residual cancer outgrowing fibrosis' | Mandard=='V - Absence of regressive changes'\"\n",
    "        else:\n",
    "            false_query = \"Mandard=='IV - Residual cancer outgrowing fibrosis' | Mandard=='V - Absence of regressive changes'\"\n",
    "        \n",
    "        \n",
    "        class_dict['True'] = list(data.query(true_query)['record_id'])\n",
    "        class_dict['False'] = list(data.query(false_query)['record_id'])\n",
    "\n",
    "    return class_dict\n",
    "\n",
    "def make_directories(class_dict, target_directory):\n",
    "    for class_name in class_dict.keys():\n",
    "        class_dir = os.path.join(target_directory, class_name)\n",
    "        if os.path.isdir(class_dir) == False:\n",
    "            os.mkdir(class_dir)\n",
    "        \n",
    "def sort_subjects(class_dict, origin_dir, target_dir):\n",
    "    for class_name, class_list in class_dict.items():\n",
    "        for subject in class_list:\n",
    "\n",
    "            subject_path = os.path.join(origin_dir, subject)\n",
    "            file_list = glob.glob(f'{subject_path}_*')\n",
    "            \n",
    "            for file in file_list:\n",
    "                shutil.copyfile(file, os.path.join(target_dir, class_name, file.split('/')[-1]))\n",
    "                # print(file.split('/')[-1])\n",
    "                # print(os.path.join(target_dir, class_name, file.split('/')[-1]))"
   ]
  },
  {
   "cell_type": "code",
   "execution_count": 24,
   "metadata": {},
   "outputs": [
    {
     "name": "stdout",
     "output_type": "stream",
     "text": [
      "39\n"
     ]
    }
   ],
   "source": [
    "deepslide_dir = '/data/gpfs/projects/punim2070/code/deepslide/deepslide'\n",
    "csv_path = os.path.join(deepslide_dir, 'OES_tools', 'Slide Scanning Log.xlsx - Labelling.csv')\n",
    "class_dict = construct_class_dict(csv_path, mode = 'bin')\n",
    "# print(class_dict)\n",
    "print(len(class_dict['False']))\n"
   ]
  },
  {
   "cell_type": "code",
   "execution_count": 2,
   "metadata": {},
   "outputs": [
    {
     "name": "stdout",
     "output_type": "stream",
     "text": [
      "True \n",
      " True \n",
      " True \n",
      "\n"
     ]
    }
   ],
   "source": [
    "deepslide_dir = '/data/gpfs/projects/punim2070/code/deepslide/deepslide'\n",
    "csv_path = os.path.join(deepslide_dir, 'OES_tools', 'Slide Scanning Log.xlsx - Labelling.csv')\n",
    "target_dir = os.path.join(deepslide_dir, 'all_wsi')\n",
    "\n",
    "origin_dir = '/data/gpfs/projects/punim2070/data_jpg/OAC Slides JPEG Export_downsampled10'\n",
    "mode = 'bin'\n",
    "print(os.path.exists(target_dir), '\\n', os.path.exists(csv_path), '\\n', os.path.exists(origin_dir), '\\n')\n",
    "\n",
    "class_dict = construct_class_dict(csv_path, mode)"
   ]
  },
  {
   "cell_type": "code",
   "execution_count": 2,
   "metadata": {},
   "outputs": [
    {
     "name": "stdout",
     "output_type": "stream",
     "text": [
      "{'True': ['8', '9', '39', '48', '60', '73', '77', '121', '131', '151', '159', '161', '162', '179', '188', '194', '261', '280', '318', '338'], 'False': ['5', '6', '20', '27', '56', '68', '82', '83', '91', '93', '98', '111', '119', '124', '128', '136', '146', '147', '148', '153', '157', '160', '163', '167', '174', '177', '193', '202', '213', '228', '248', '294', '295', '304', '343']}\n",
      "{'True': ['21', '125'], 'False': ['118', '62']}\n",
      "{'True': ['352', '175'], 'False': ['206', '26']}\n"
     ]
    }
   ],
   "source": [
    "# directories = {'wsi_train_1': train_class_dict, 'wsi_val_1': val_class_dict, 'wsi_test_1': test_class_dict}\n",
    "\n",
    "deepslide_dir = '/data/gpfs/projects/punim2070/code/deepslide/deepslide'\n",
    "csv_path = os.path.join(deepslide_dir, 'OES_tools', 'Slide Scanning Log.xlsx - Labelling.csv')\n",
    "mode = 'bin'\n",
    "class_dict = construct_class_dict(csv_path, mode)\n",
    "\n",
    "test_class_dict     =   {}\n",
    "val_class_dict      =   {}\n",
    "train_class_dict    =   {}\n",
    "\n",
    "#Extracting test class subjects:\n",
    "test_class_dict['True'] = random.sample(class_dict['True'], 2)\n",
    "for sub in test_class_dict['True']: class_dict['True'].remove(sub)\n",
    "\n",
    "test_class_dict['False'] = random.sample(class_dict['False'], 2)\n",
    "for sub in test_class_dict['False']: class_dict['False'].remove(sub)\n",
    "\n",
    "#Extracting validation class subjects:\n",
    "val_class_dict['True'] = random.sample(class_dict['True'], 2)\n",
    "for sub in val_class_dict['True']: class_dict['True'].remove(sub)\n",
    "\n",
    "val_class_dict['False'] = random.sample(class_dict['False'], 2)\n",
    "for sub in val_class_dict['False']: class_dict['False'].remove(sub)\n",
    "\n",
    "train_class_dict = class_dict\n",
    "\n",
    "print(train_class_dict)\n",
    "print(val_class_dict)\n",
    "print(test_class_dict)\n",
    "\n"
   ]
  },
  {
   "cell_type": "code",
   "execution_count": 5,
   "metadata": {},
   "outputs": [],
   "source": [
    "# Manually altered class dicts which contain the Mandards 1 and 5s (to check if the previous mandards are ambiguous)\n",
    "train_class_dict = {'True': ['8', '9', '48', '73', '77', '121', '125', '131', '151', '159', '161', '162', '175', '179', '188', '194', '261', '318', '338', '352'], 'False': ['5', '6', '20', '26', '27', '56', '62', '68', '83', '91', '98', '111', '118', '119', '124', '128', '136', '147', '148', '153', '157', '160', '163', '167', '174', '177', '193', '202', '206', '213', '228', '248', '294', '295', '304']}\n",
    "val_class_dict = {'True': ['21','280'], 'False': ['82', '146']}\n",
    "test_class_dict = {'True': ['60', '39'], 'False': ['93', '343']}"
   ]
  },
  {
   "cell_type": "code",
   "execution_count": 8,
   "metadata": {},
   "outputs": [],
   "source": [
    "directories = {'wsi_train_1': train_class_dict, 'wsi_val_1': val_class_dict, 'wsi_test_1': test_class_dict}\n",
    "origin_dir = '/data/gpfs/projects/punim2070/data_jpg/OAC Slides JPEG Export_downsampled10'\n",
    "\n",
    "for folder, class_dict in directories.items():\n",
    "    target_dir = target_dir = os.path.join(deepslide_dir, folder)\n",
    "    make_directories(class_dict, target_dir)\n",
    "    sort_subjects(class_dict, origin_dir, target_dir)\n",
    "    "
   ]
  },
  {
   "cell_type": "code",
   "execution_count": 70,
   "metadata": {},
   "outputs": [
    {
     "name": "stdout",
     "output_type": "stream",
     "text": [
      "51294\n",
      "51294\n",
      "8263\n",
      "3665\n"
     ]
    }
   ],
   "source": [
    "print(len(os.listdir('/data/gpfs/projects/punim2070/code/deepslide/deepslide/train_folder/train/True')))\n",
    "print(len(os.listdir('/data/gpfs/projects/punim2070/code/deepslide/deepslide/train_folder/train/False')))\n",
    "\n",
    "print(len(os.listdir('/data/gpfs/projects/punim2070/code/deepslide/deepslide/train_folder/val/True')))\n",
    "print(len(os.listdir('/data/gpfs/projects/punim2070/code/deepslide/deepslide/train_folder/val/False')))"
   ]
  },
  {
   "cell_type": "code",
   "execution_count": 15,
   "metadata": {},
   "outputs": [
    {
     "name": "stdout",
     "output_type": "stream",
     "text": [
      "The TRUE subjects in the validation set are: {'161', '151'}\n",
      "The FALSE subjects in the validation set are: {'213', '124'}\n"
     ]
    }
   ],
   "source": [
    "true_subjects = set([jpg_file.split('_')[0] for jpg_file in os.listdir('/data/gpfs/projects/punim2070/code/deepslide/deepslide/train_folder/val/True')])\n",
    "print(f'The TRUE subjects in the validation set are: {true_subjects}')\n",
    "\n",
    "false_subjects = set([jpg_file.split('_')[0] for jpg_file in os.listdir('/data/gpfs/projects/punim2070/code/deepslide/deepslide/train_folder/val/False')])\n",
    "print(f'The FALSE subjects in the validation set are: {false_subjects}')"
   ]
  }
 ],
 "metadata": {
  "kernelspec": {
   "display_name": "deepslide_env",
   "language": "python",
   "name": "python3"
  },
  "language_info": {
   "codemirror_mode": {
    "name": "ipython",
    "version": 3
   },
   "file_extension": ".py",
   "mimetype": "text/x-python",
   "name": "python",
   "nbconvert_exporter": "python",
   "pygments_lexer": "ipython3",
   "version": "3.11.5"
  },
  "orig_nbformat": 4
 },
 "nbformat": 4,
 "nbformat_minor": 2
}
